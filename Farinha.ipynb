{
 "cells": [
  {
   "cell_type": "code",
   "execution_count": 2,
   "metadata": {
    "collapsed": false
   },
   "outputs": [],
   "source": [
    "import numpy as np\n",
    "import pandas"
   ]
  },
  {
   "cell_type": "code",
   "execution_count": 161,
   "metadata": {
    "collapsed": true
   },
   "outputs": [],
   "source": [
    "points = pandas.read_table('SoFarinha3Kp.txt', sep=' ', names='xyz', dtype={'x': np.float32, 'y': np.float32, 'z': np.float32})"
   ]
  },
  {
   "cell_type": "code",
   "execution_count": 162,
   "metadata": {
    "collapsed": false
   },
   "outputs": [
    {
     "data": {
      "text/html": [
       "<div>\n",
       "<table border=\"1\" class=\"dataframe\">\n",
       "  <thead>\n",
       "    <tr style=\"text-align: right;\">\n",
       "      <th></th>\n",
       "      <th>x</th>\n",
       "      <th>y</th>\n",
       "      <th>z</th>\n",
       "    </tr>\n",
       "  </thead>\n",
       "  <tbody>\n",
       "    <tr>\n",
       "      <th>0</th>\n",
       "      <td>-6.646221</td>\n",
       "      <td>20.149977</td>\n",
       "      <td>-3.579397</td>\n",
       "    </tr>\n",
       "    <tr>\n",
       "      <th>1</th>\n",
       "      <td>-6.553488</td>\n",
       "      <td>19.842066</td>\n",
       "      <td>-3.704167</td>\n",
       "    </tr>\n",
       "    <tr>\n",
       "      <th>2</th>\n",
       "      <td>-5.740045</td>\n",
       "      <td>19.592062</td>\n",
       "      <td>-3.572523</td>\n",
       "    </tr>\n",
       "    <tr>\n",
       "      <th>3</th>\n",
       "      <td>-5.574181</td>\n",
       "      <td>19.695089</td>\n",
       "      <td>-3.443098</td>\n",
       "    </tr>\n",
       "    <tr>\n",
       "      <th>4</th>\n",
       "      <td>-5.336629</td>\n",
       "      <td>19.321108</td>\n",
       "      <td>-3.696704</td>\n",
       "    </tr>\n",
       "    <tr>\n",
       "      <th>5</th>\n",
       "      <td>-5.771647</td>\n",
       "      <td>19.571400</td>\n",
       "      <td>-3.593774</td>\n",
       "    </tr>\n",
       "    <tr>\n",
       "      <th>6</th>\n",
       "      <td>-5.625398</td>\n",
       "      <td>19.676079</td>\n",
       "      <td>-3.484923</td>\n",
       "    </tr>\n",
       "    <tr>\n",
       "      <th>7</th>\n",
       "      <td>-5.871430</td>\n",
       "      <td>20.178783</td>\n",
       "      <td>-3.056323</td>\n",
       "    </tr>\n",
       "    <tr>\n",
       "      <th>8</th>\n",
       "      <td>-5.567937</td>\n",
       "      <td>20.190393</td>\n",
       "      <td>-2.993254</td>\n",
       "    </tr>\n",
       "    <tr>\n",
       "      <th>9</th>\n",
       "      <td>-5.458427</td>\n",
       "      <td>20.062490</td>\n",
       "      <td>-3.159509</td>\n",
       "    </tr>\n",
       "    <tr>\n",
       "      <th>10</th>\n",
       "      <td>-5.843908</td>\n",
       "      <td>20.292017</td>\n",
       "      <td>-2.967945</td>\n",
       "    </tr>\n",
       "    <tr>\n",
       "      <th>11</th>\n",
       "      <td>-5.362622</td>\n",
       "      <td>20.184832</td>\n",
       "      <td>-2.900638</td>\n",
       "    </tr>\n",
       "    <tr>\n",
       "      <th>12</th>\n",
       "      <td>-6.531578</td>\n",
       "      <td>20.182001</td>\n",
       "      <td>-3.498083</td>\n",
       "    </tr>\n",
       "    <tr>\n",
       "      <th>13</th>\n",
       "      <td>-6.199417</td>\n",
       "      <td>19.657894</td>\n",
       "      <td>-3.661397</td>\n",
       "    </tr>\n",
       "    <tr>\n",
       "      <th>14</th>\n",
       "      <td>-6.285761</td>\n",
       "      <td>19.768461</td>\n",
       "      <td>-3.550890</td>\n",
       "    </tr>\n",
       "    <tr>\n",
       "      <th>15</th>\n",
       "      <td>-6.054467</td>\n",
       "      <td>19.693039</td>\n",
       "      <td>-3.576461</td>\n",
       "    </tr>\n",
       "    <tr>\n",
       "      <th>16</th>\n",
       "      <td>-6.457910</td>\n",
       "      <td>19.796125</td>\n",
       "      <td>-3.641085</td>\n",
       "    </tr>\n",
       "    <tr>\n",
       "      <th>17</th>\n",
       "      <td>-6.222098</td>\n",
       "      <td>20.071404</td>\n",
       "      <td>-3.322784</td>\n",
       "    </tr>\n",
       "    <tr>\n",
       "      <th>18</th>\n",
       "      <td>-6.365074</td>\n",
       "      <td>20.219475</td>\n",
       "      <td>-3.325071</td>\n",
       "    </tr>\n",
       "    <tr>\n",
       "      <th>19</th>\n",
       "      <td>-5.835458</td>\n",
       "      <td>19.943436</td>\n",
       "      <td>-3.338029</td>\n",
       "    </tr>\n",
       "    <tr>\n",
       "      <th>20</th>\n",
       "      <td>-5.411945</td>\n",
       "      <td>19.980692</td>\n",
       "      <td>-3.191086</td>\n",
       "    </tr>\n",
       "    <tr>\n",
       "      <th>21</th>\n",
       "      <td>-5.819965</td>\n",
       "      <td>20.116787</td>\n",
       "      <td>-3.161680</td>\n",
       "    </tr>\n",
       "    <tr>\n",
       "      <th>22</th>\n",
       "      <td>-5.330267</td>\n",
       "      <td>19.940048</td>\n",
       "      <td>-3.177009</td>\n",
       "    </tr>\n",
       "    <tr>\n",
       "      <th>23</th>\n",
       "      <td>-5.920530</td>\n",
       "      <td>19.972324</td>\n",
       "      <td>-3.346641</td>\n",
       "    </tr>\n",
       "    <tr>\n",
       "      <th>24</th>\n",
       "      <td>-4.869667</td>\n",
       "      <td>19.773014</td>\n",
       "      <td>-3.262205</td>\n",
       "    </tr>\n",
       "    <tr>\n",
       "      <th>25</th>\n",
       "      <td>-5.135313</td>\n",
       "      <td>19.590218</td>\n",
       "      <td>-3.512634</td>\n",
       "    </tr>\n",
       "    <tr>\n",
       "      <th>26</th>\n",
       "      <td>-5.158510</td>\n",
       "      <td>19.336716</td>\n",
       "      <td>-3.723778</td>\n",
       "    </tr>\n",
       "    <tr>\n",
       "      <th>27</th>\n",
       "      <td>-4.760289</td>\n",
       "      <td>19.458597</td>\n",
       "      <td>-3.740061</td>\n",
       "    </tr>\n",
       "    <tr>\n",
       "      <th>28</th>\n",
       "      <td>-4.958470</td>\n",
       "      <td>19.686495</td>\n",
       "      <td>-3.355075</td>\n",
       "    </tr>\n",
       "    <tr>\n",
       "      <th>29</th>\n",
       "      <td>-5.031137</td>\n",
       "      <td>19.488218</td>\n",
       "      <td>-3.626496</td>\n",
       "    </tr>\n",
       "    <tr>\n",
       "      <th>...</th>\n",
       "      <td>...</td>\n",
       "      <td>...</td>\n",
       "      <td>...</td>\n",
       "    </tr>\n",
       "    <tr>\n",
       "      <th>3693</th>\n",
       "      <td>7.742847</td>\n",
       "      <td>27.069643</td>\n",
       "      <td>-2.972221</td>\n",
       "    </tr>\n",
       "    <tr>\n",
       "      <th>3694</th>\n",
       "      <td>7.927551</td>\n",
       "      <td>27.065701</td>\n",
       "      <td>-3.066124</td>\n",
       "    </tr>\n",
       "    <tr>\n",
       "      <th>3695</th>\n",
       "      <td>8.081610</td>\n",
       "      <td>27.345615</td>\n",
       "      <td>-3.068350</td>\n",
       "    </tr>\n",
       "    <tr>\n",
       "      <th>3696</th>\n",
       "      <td>8.293514</td>\n",
       "      <td>27.211233</td>\n",
       "      <td>-3.274566</td>\n",
       "    </tr>\n",
       "    <tr>\n",
       "      <th>3697</th>\n",
       "      <td>8.435376</td>\n",
       "      <td>27.381098</td>\n",
       "      <td>-3.251252</td>\n",
       "    </tr>\n",
       "    <tr>\n",
       "      <th>3698</th>\n",
       "      <td>8.250142</td>\n",
       "      <td>26.697323</td>\n",
       "      <td>-3.490816</td>\n",
       "    </tr>\n",
       "    <tr>\n",
       "      <th>3699</th>\n",
       "      <td>8.350644</td>\n",
       "      <td>26.775028</td>\n",
       "      <td>-3.491270</td>\n",
       "    </tr>\n",
       "    <tr>\n",
       "      <th>3700</th>\n",
       "      <td>7.689237</td>\n",
       "      <td>27.847176</td>\n",
       "      <td>-2.534960</td>\n",
       "    </tr>\n",
       "    <tr>\n",
       "      <th>3701</th>\n",
       "      <td>7.601740</td>\n",
       "      <td>28.103758</td>\n",
       "      <td>-2.330171</td>\n",
       "    </tr>\n",
       "    <tr>\n",
       "      <th>3702</th>\n",
       "      <td>7.436391</td>\n",
       "      <td>27.843832</td>\n",
       "      <td>-2.328799</td>\n",
       "    </tr>\n",
       "    <tr>\n",
       "      <th>3703</th>\n",
       "      <td>7.856108</td>\n",
       "      <td>27.783689</td>\n",
       "      <td>-2.697309</td>\n",
       "    </tr>\n",
       "    <tr>\n",
       "      <th>3704</th>\n",
       "      <td>8.294845</td>\n",
       "      <td>28.240250</td>\n",
       "      <td>-2.799944</td>\n",
       "    </tr>\n",
       "    <tr>\n",
       "      <th>3705</th>\n",
       "      <td>8.037997</td>\n",
       "      <td>27.670002</td>\n",
       "      <td>-2.901546</td>\n",
       "    </tr>\n",
       "    <tr>\n",
       "      <th>3706</th>\n",
       "      <td>8.079688</td>\n",
       "      <td>28.424482</td>\n",
       "      <td>-2.619951</td>\n",
       "    </tr>\n",
       "    <tr>\n",
       "      <th>3707</th>\n",
       "      <td>7.748307</td>\n",
       "      <td>28.740252</td>\n",
       "      <td>-2.322816</td>\n",
       "    </tr>\n",
       "    <tr>\n",
       "      <th>3708</th>\n",
       "      <td>7.850054</td>\n",
       "      <td>28.457647</td>\n",
       "      <td>-2.388556</td>\n",
       "    </tr>\n",
       "    <tr>\n",
       "      <th>3709</th>\n",
       "      <td>5.147147</td>\n",
       "      <td>28.848358</td>\n",
       "      <td>-0.625129</td>\n",
       "    </tr>\n",
       "    <tr>\n",
       "      <th>3710</th>\n",
       "      <td>4.882634</td>\n",
       "      <td>28.709532</td>\n",
       "      <td>-0.721558</td>\n",
       "    </tr>\n",
       "    <tr>\n",
       "      <th>3711</th>\n",
       "      <td>5.166723</td>\n",
       "      <td>28.946808</td>\n",
       "      <td>-0.535650</td>\n",
       "    </tr>\n",
       "    <tr>\n",
       "      <th>3712</th>\n",
       "      <td>4.782857</td>\n",
       "      <td>28.732731</td>\n",
       "      <td>-0.764477</td>\n",
       "    </tr>\n",
       "    <tr>\n",
       "      <th>3713</th>\n",
       "      <td>4.816714</td>\n",
       "      <td>29.416124</td>\n",
       "      <td>-0.564960</td>\n",
       "    </tr>\n",
       "    <tr>\n",
       "      <th>3714</th>\n",
       "      <td>6.866450</td>\n",
       "      <td>28.988775</td>\n",
       "      <td>-1.444863</td>\n",
       "    </tr>\n",
       "    <tr>\n",
       "      <th>3715</th>\n",
       "      <td>7.025537</td>\n",
       "      <td>28.935055</td>\n",
       "      <td>-1.670682</td>\n",
       "    </tr>\n",
       "    <tr>\n",
       "      <th>3716</th>\n",
       "      <td>7.466344</td>\n",
       "      <td>28.987574</td>\n",
       "      <td>-1.866439</td>\n",
       "    </tr>\n",
       "    <tr>\n",
       "      <th>3717</th>\n",
       "      <td>7.248293</td>\n",
       "      <td>29.679365</td>\n",
       "      <td>-1.879926</td>\n",
       "    </tr>\n",
       "    <tr>\n",
       "      <th>3718</th>\n",
       "      <td>8.116950</td>\n",
       "      <td>28.952604</td>\n",
       "      <td>-2.474494</td>\n",
       "    </tr>\n",
       "    <tr>\n",
       "      <th>3719</th>\n",
       "      <td>8.174680</td>\n",
       "      <td>29.995333</td>\n",
       "      <td>-2.437111</td>\n",
       "    </tr>\n",
       "    <tr>\n",
       "      <th>3720</th>\n",
       "      <td>8.344772</td>\n",
       "      <td>30.918791</td>\n",
       "      <td>-2.459039</td>\n",
       "    </tr>\n",
       "    <tr>\n",
       "      <th>3721</th>\n",
       "      <td>-5.801351</td>\n",
       "      <td>30.210140</td>\n",
       "      <td>1.539889</td>\n",
       "    </tr>\n",
       "    <tr>\n",
       "      <th>3722</th>\n",
       "      <td>1.261751</td>\n",
       "      <td>30.755987</td>\n",
       "      <td>-0.668116</td>\n",
       "    </tr>\n",
       "  </tbody>\n",
       "</table>\n",
       "<p>3723 rows × 3 columns</p>\n",
       "</div>"
      ],
      "text/plain": [
       "             x          y         z\n",
       "0    -6.646221  20.149977 -3.579397\n",
       "1    -6.553488  19.842066 -3.704167\n",
       "2    -5.740045  19.592062 -3.572523\n",
       "3    -5.574181  19.695089 -3.443098\n",
       "4    -5.336629  19.321108 -3.696704\n",
       "5    -5.771647  19.571400 -3.593774\n",
       "6    -5.625398  19.676079 -3.484923\n",
       "7    -5.871430  20.178783 -3.056323\n",
       "8    -5.567937  20.190393 -2.993254\n",
       "9    -5.458427  20.062490 -3.159509\n",
       "10   -5.843908  20.292017 -2.967945\n",
       "11   -5.362622  20.184832 -2.900638\n",
       "12   -6.531578  20.182001 -3.498083\n",
       "13   -6.199417  19.657894 -3.661397\n",
       "14   -6.285761  19.768461 -3.550890\n",
       "15   -6.054467  19.693039 -3.576461\n",
       "16   -6.457910  19.796125 -3.641085\n",
       "17   -6.222098  20.071404 -3.322784\n",
       "18   -6.365074  20.219475 -3.325071\n",
       "19   -5.835458  19.943436 -3.338029\n",
       "20   -5.411945  19.980692 -3.191086\n",
       "21   -5.819965  20.116787 -3.161680\n",
       "22   -5.330267  19.940048 -3.177009\n",
       "23   -5.920530  19.972324 -3.346641\n",
       "24   -4.869667  19.773014 -3.262205\n",
       "25   -5.135313  19.590218 -3.512634\n",
       "26   -5.158510  19.336716 -3.723778\n",
       "27   -4.760289  19.458597 -3.740061\n",
       "28   -4.958470  19.686495 -3.355075\n",
       "29   -5.031137  19.488218 -3.626496\n",
       "...        ...        ...       ...\n",
       "3693  7.742847  27.069643 -2.972221\n",
       "3694  7.927551  27.065701 -3.066124\n",
       "3695  8.081610  27.345615 -3.068350\n",
       "3696  8.293514  27.211233 -3.274566\n",
       "3697  8.435376  27.381098 -3.251252\n",
       "3698  8.250142  26.697323 -3.490816\n",
       "3699  8.350644  26.775028 -3.491270\n",
       "3700  7.689237  27.847176 -2.534960\n",
       "3701  7.601740  28.103758 -2.330171\n",
       "3702  7.436391  27.843832 -2.328799\n",
       "3703  7.856108  27.783689 -2.697309\n",
       "3704  8.294845  28.240250 -2.799944\n",
       "3705  8.037997  27.670002 -2.901546\n",
       "3706  8.079688  28.424482 -2.619951\n",
       "3707  7.748307  28.740252 -2.322816\n",
       "3708  7.850054  28.457647 -2.388556\n",
       "3709  5.147147  28.848358 -0.625129\n",
       "3710  4.882634  28.709532 -0.721558\n",
       "3711  5.166723  28.946808 -0.535650\n",
       "3712  4.782857  28.732731 -0.764477\n",
       "3713  4.816714  29.416124 -0.564960\n",
       "3714  6.866450  28.988775 -1.444863\n",
       "3715  7.025537  28.935055 -1.670682\n",
       "3716  7.466344  28.987574 -1.866439\n",
       "3717  7.248293  29.679365 -1.879926\n",
       "3718  8.116950  28.952604 -2.474494\n",
       "3719  8.174680  29.995333 -2.437111\n",
       "3720  8.344772  30.918791 -2.459039\n",
       "3721 -5.801351  30.210140  1.539889\n",
       "3722  1.261751  30.755987 -0.668116\n",
       "\n",
       "[3723 rows x 3 columns]"
      ]
     },
     "execution_count": 162,
     "metadata": {},
     "output_type": "execute_result"
    }
   ],
   "source": [
    "points"
   ]
  },
  {
   "cell_type": "code",
   "execution_count": 163,
   "metadata": {
    "collapsed": false
   },
   "outputs": [
    {
     "data": {
      "text/plain": [
       "x     8.623216\n",
       "y    30.918791\n",
       "z     2.556613\n",
       "dtype: float32"
      ]
     },
     "execution_count": 163,
     "metadata": {},
     "output_type": "execute_result"
    }
   ],
   "source": [
    "box_max = points.max()\n",
    "box_max"
   ]
  },
  {
   "cell_type": "code",
   "execution_count": 164,
   "metadata": {
    "collapsed": false
   },
   "outputs": [
    {
     "data": {
      "text/plain": [
       "x   -11.041434\n",
       "y    15.607461\n",
       "z    -6.336133\n",
       "dtype: float32"
      ]
     },
     "execution_count": 164,
     "metadata": {},
     "output_type": "execute_result"
    }
   ],
   "source": [
    "box_min = points.min()\n",
    "box_min"
   ]
  },
  {
   "cell_type": "code",
   "execution_count": 165,
   "metadata": {
    "collapsed": false
   },
   "outputs": [],
   "source": [
    "delta = points.max() - points.min()"
   ]
  },
  {
   "cell_type": "code",
   "execution_count": 166,
   "metadata": {
    "collapsed": false
   },
   "outputs": [
    {
     "data": {
      "text/plain": [
       "x    19.664650\n",
       "y    15.311330\n",
       "z     8.892746\n",
       "dtype: float32"
      ]
     },
     "execution_count": 166,
     "metadata": {},
     "output_type": "execute_result"
    }
   ],
   "source": [
    "delta"
   ]
  },
  {
   "cell_type": "code",
   "execution_count": 167,
   "metadata": {
    "collapsed": false
   },
   "outputs": [],
   "source": [
    "box_width_proportion = delta.x / 37  # largura em cm"
   ]
  },
  {
   "cell_type": "code",
   "execution_count": 168,
   "metadata": {
    "collapsed": false
   },
   "outputs": [],
   "source": [
    "box_depth_proportion = delta.y / 30  # profundidade em cm"
   ]
  },
  {
   "cell_type": "code",
   "execution_count": 169,
   "metadata": {
    "collapsed": false
   },
   "outputs": [],
   "source": [
    "box_height_proportion = delta.z / 18  # altura em cm"
   ]
  },
  {
   "cell_type": "code",
   "execution_count": 170,
   "metadata": {
    "collapsed": false
   },
   "outputs": [
    {
     "data": {
      "text/plain": [
       "19980"
      ]
     },
     "execution_count": 170,
     "metadata": {},
     "output_type": "execute_result"
    }
   ],
   "source": [
    "# maximo volume possível do modelo\n",
    "max_model_volume = 37 * 30 * 18\n",
    "max_model_volume"
   ]
  },
  {
   "cell_type": "code",
   "execution_count": 171,
   "metadata": {
    "collapsed": false
   },
   "outputs": [
    {
     "data": {
      "text/plain": [
       "7293.0"
      ]
     },
     "execution_count": 171,
     "metadata": {},
     "output_type": "execute_result"
    }
   ],
   "source": [
    "PACKAGE_VOLUME = 16.5 * 17 * 6.5 # em cm3\n",
    "NUMBER_OF_PACKAGES = 4\n",
    "total_baseline_volume = PACKAGE_VOLUME * NUMBER_OF_PACKAGES # volume de farinha no modelo\n",
    "total_baseline_volume"
   ]
  },
  {
   "cell_type": "code",
   "execution_count": 172,
   "metadata": {
    "collapsed": false
   },
   "outputs": [
    {
     "data": {
      "text/plain": [
       "8.6232156753540039"
      ]
     },
     "execution_count": 172,
     "metadata": {},
     "output_type": "execute_result"
    }
   ],
   "source": [
    "box_min.x + box_width_proportion*37"
   ]
  },
  {
   "cell_type": "code",
   "execution_count": 173,
   "metadata": {
    "collapsed": false
   },
   "outputs": [
    {
     "data": {
      "text/plain": [
       "30.918790817260742"
      ]
     },
     "execution_count": 173,
     "metadata": {},
     "output_type": "execute_result"
    }
   ],
   "source": [
    "box_min.y + box_depth_proportion*30"
   ]
  },
  {
   "cell_type": "code",
   "execution_count": 174,
   "metadata": {
    "collapsed": true
   },
   "outputs": [],
   "source": [
    "# constantes para definir o tamanho dos quadrantes\n",
    "STEPS_WIDTH = 10\n",
    "STEPS_DEPTH = 10"
   ]
  },
  {
   "cell_type": "code",
   "execution_count": 175,
   "metadata": {
    "collapsed": false
   },
   "outputs": [
    {
     "data": {
      "text/plain": [
       "1.9664649963378906"
      ]
     },
     "execution_count": 175,
     "metadata": {},
     "output_type": "execute_result"
    }
   ],
   "source": [
    "box_width_step = delta.x / STEPS_WIDTH # STEPS_WIDTH divisões na largura\n",
    "box_width_step"
   ]
  },
  {
   "cell_type": "code",
   "execution_count": 176,
   "metadata": {
    "collapsed": false
   },
   "outputs": [
    {
     "data": {
      "text/plain": [
       "1.531132984161377"
      ]
     },
     "execution_count": 176,
     "metadata": {},
     "output_type": "execute_result"
    }
   ],
   "source": [
    "box_depth_step = delta.y / STEPS_DEPTH # STEPS_DEPTH divisões na profundidade\n",
    "box_depth_step"
   ]
  },
  {
   "cell_type": "code",
   "execution_count": 177,
   "metadata": {
    "collapsed": false
   },
   "outputs": [
    {
     "data": {
      "text/plain": [
       "8.6232156753540039"
      ]
     },
     "execution_count": 177,
     "metadata": {},
     "output_type": "execute_result"
    }
   ],
   "source": [
    "box_min.x + STEPS_WIDTH*box_width_step # a máxima largura é atingida na última divisão"
   ]
  },
  {
   "cell_type": "code",
   "execution_count": 178,
   "metadata": {
    "collapsed": false
   },
   "outputs": [
    {
     "data": {
      "text/plain": [
       "30.918790817260742"
      ]
     },
     "execution_count": 178,
     "metadata": {},
     "output_type": "execute_result"
    }
   ],
   "source": [
    "box_min.y + STEPS_DEPTH*box_depth_step # a máxima profundidade é atingida na última divisão"
   ]
  },
  {
   "cell_type": "code",
   "execution_count": 179,
   "metadata": {
    "collapsed": false
   },
   "outputs": [
    {
     "data": {
      "text/html": [
       "<div>\n",
       "<table border=\"1\" class=\"dataframe\">\n",
       "  <thead>\n",
       "    <tr style=\"text-align: right;\">\n",
       "      <th></th>\n",
       "      <th>x</th>\n",
       "      <th>y</th>\n",
       "      <th>z</th>\n",
       "    </tr>\n",
       "  </thead>\n",
       "  <tbody>\n",
       "    <tr>\n",
       "      <th>56</th>\n",
       "      <td>-9.978073</td>\n",
       "      <td>17.068142</td>\n",
       "      <td>-5.981015</td>\n",
       "    </tr>\n",
       "    <tr>\n",
       "      <th>57</th>\n",
       "      <td>-9.815164</td>\n",
       "      <td>16.541557</td>\n",
       "      <td>-6.232831</td>\n",
       "    </tr>\n",
       "    <tr>\n",
       "      <th>58</th>\n",
       "      <td>-9.742514</td>\n",
       "      <td>16.735249</td>\n",
       "      <td>-6.042958</td>\n",
       "    </tr>\n",
       "    <tr>\n",
       "      <th>61</th>\n",
       "      <td>-9.470703</td>\n",
       "      <td>17.130783</td>\n",
       "      <td>-5.985251</td>\n",
       "    </tr>\n",
       "    <tr>\n",
       "      <th>63</th>\n",
       "      <td>-9.479581</td>\n",
       "      <td>16.826414</td>\n",
       "      <td>-6.123676</td>\n",
       "    </tr>\n",
       "    <tr>\n",
       "      <th>68</th>\n",
       "      <td>-9.277325</td>\n",
       "      <td>17.090134</td>\n",
       "      <td>-5.995420</td>\n",
       "    </tr>\n",
       "  </tbody>\n",
       "</table>\n",
       "</div>"
      ],
      "text/plain": [
       "           x          y         z\n",
       "56 -9.978073  17.068142 -5.981015\n",
       "57 -9.815164  16.541557 -6.232831\n",
       "58 -9.742514  16.735249 -6.042958\n",
       "61 -9.470703  17.130783 -5.985251\n",
       "63 -9.479581  16.826414 -6.123676\n",
       "68 -9.277325  17.090134 -5.995420"
      ]
     },
     "execution_count": 179,
     "metadata": {},
     "output_type": "execute_result"
    }
   ],
   "source": [
    "# seleciona pontos dentro do primeiro quadrante (1,1)\n",
    "points_quadrant_1_1 = points.loc[(points[\"x\"] < (box_min.x+1*box_width_step)) & (points[\"y\"] < (box_min.y+1*box_depth_step))]\n",
    "points_quadrant_1_1"
   ]
  },
  {
   "cell_type": "code",
   "execution_count": 359,
   "metadata": {
    "collapsed": false
   },
   "outputs": [
    {
     "data": {
      "text/html": [
       "<div>\n",
       "<table border=\"1\" class=\"dataframe\">\n",
       "  <thead>\n",
       "    <tr style=\"text-align: right;\">\n",
       "      <th></th>\n",
       "      <th>x</th>\n",
       "      <th>y</th>\n",
       "      <th>z</th>\n",
       "    </tr>\n",
       "  </thead>\n",
       "  <tbody>\n",
       "    <tr>\n",
       "      <th>3717</th>\n",
       "      <td>7.248293</td>\n",
       "      <td>29.679365</td>\n",
       "      <td>-1.879926</td>\n",
       "    </tr>\n",
       "    <tr>\n",
       "      <th>3719</th>\n",
       "      <td>8.174680</td>\n",
       "      <td>29.995333</td>\n",
       "      <td>-2.437111</td>\n",
       "    </tr>\n",
       "  </tbody>\n",
       "</table>\n",
       "</div>"
      ],
      "text/plain": [
       "             x          y         z\n",
       "3717  7.248293  29.679365 -1.879926\n",
       "3719  8.174680  29.995333 -2.437111"
      ]
     },
     "execution_count": 359,
     "metadata": {},
     "output_type": "execute_result"
    }
   ],
   "source": [
    "# seleciona pontos dentro do último quadrante (10,10)\n",
    "points_quadrant_10_10 = points.loc[(points[\"x\"] > (box_min.x+9*box_width_step)) & (points[\"y\"] > (box_min.y+9*box_depth_step)) & (points[\"x\"] < (box_min.x+10*box_width_step)) & (points[\"y\"] < (box_min.y+10*box_depth_step))]\n",
    "points_quadrant_10_10"
   ]
  },
  {
   "cell_type": "code",
   "execution_count": 181,
   "metadata": {
    "collapsed": false
   },
   "outputs": [
    {
     "data": {
      "text/html": [
       "<div>\n",
       "<table border=\"1\" class=\"dataframe\">\n",
       "  <thead>\n",
       "    <tr style=\"text-align: right;\">\n",
       "      <th></th>\n",
       "      <th>x</th>\n",
       "      <th>y</th>\n",
       "      <th>z</th>\n",
       "    </tr>\n",
       "  </thead>\n",
       "  <tbody>\n",
       "    <tr>\n",
       "      <th>1352</th>\n",
       "      <td>-9.715121</td>\n",
       "      <td>29.66308</td>\n",
       "      <td>0.758798</td>\n",
       "    </tr>\n",
       "  </tbody>\n",
       "</table>\n",
       "</div>"
      ],
      "text/plain": [
       "             x         y         z\n",
       "1352 -9.715121  29.66308  0.758798"
      ]
     },
     "execution_count": 181,
     "metadata": {},
     "output_type": "execute_result"
    }
   ],
   "source": [
    "# seleciona pontos dentro do quadrante (1,10)\n",
    "points.loc[(points[\"x\"] > (box_min.x+0*box_width_step)) & (points[\"y\"] > (box_min.y+9*box_depth_step)) & (points[\"x\"] < (box_min.x+1*box_width_step)) & (points[\"y\"] < (box_min.y+10*box_depth_step))]"
   ]
  },
  {
   "cell_type": "code",
   "execution_count": 182,
   "metadata": {
    "collapsed": false
   },
   "outputs": [
    {
     "data": {
      "text/html": [
       "<div>\n",
       "<table border=\"1\" class=\"dataframe\">\n",
       "  <thead>\n",
       "    <tr style=\"text-align: right;\">\n",
       "      <th></th>\n",
       "      <th>x</th>\n",
       "      <th>y</th>\n",
       "      <th>z</th>\n",
       "    </tr>\n",
       "  </thead>\n",
       "  <tbody>\n",
       "    <tr>\n",
       "      <th>1445</th>\n",
       "      <td>-6.753729</td>\n",
       "      <td>29.764936</td>\n",
       "      <td>2.556613</td>\n",
       "    </tr>\n",
       "  </tbody>\n",
       "</table>\n",
       "</div>"
      ],
      "text/plain": [
       "             x          y         z\n",
       "1445 -6.753729  29.764936  2.556613"
      ]
     },
     "execution_count": 182,
     "metadata": {},
     "output_type": "execute_result"
    }
   ],
   "source": [
    "# procura max val eixo z\n",
    "max_z = points.max().z\n",
    "points.loc[(points[\"z\"] == max_z)]"
   ]
  },
  {
   "cell_type": "code",
   "execution_count": 183,
   "metadata": {
    "collapsed": false
   },
   "outputs": [
    {
     "data": {
      "text/plain": [
       "-5.1420392990112305"
      ]
     },
     "execution_count": 183,
     "metadata": {},
     "output_type": "execute_result"
    }
   ],
   "source": [
    "box_min.x+3*box_width_step"
   ]
  },
  {
   "cell_type": "code",
   "execution_count": 184,
   "metadata": {
    "collapsed": false
   },
   "outputs": [
    {
     "data": {
      "text/plain": [
       "29.387657833099368"
      ]
     },
     "execution_count": 184,
     "metadata": {},
     "output_type": "execute_result"
    }
   ],
   "source": [
    "box_min.y+9*box_depth_step"
   ]
  },
  {
   "cell_type": "code",
   "execution_count": 185,
   "metadata": {
    "collapsed": false
   },
   "outputs": [
    {
     "data": {
      "text/html": [
       "<div>\n",
       "<table border=\"1\" class=\"dataframe\">\n",
       "  <thead>\n",
       "    <tr style=\"text-align: right;\">\n",
       "      <th></th>\n",
       "      <th>x</th>\n",
       "      <th>y</th>\n",
       "      <th>z</th>\n",
       "    </tr>\n",
       "  </thead>\n",
       "  <tbody>\n",
       "    <tr>\n",
       "      <th>1433</th>\n",
       "      <td>-5.108001</td>\n",
       "      <td>28.115459</td>\n",
       "      <td>0.960877</td>\n",
       "    </tr>\n",
       "    <tr>\n",
       "      <th>1434</th>\n",
       "      <td>-4.834965</td>\n",
       "      <td>27.967173</td>\n",
       "      <td>0.653204</td>\n",
       "    </tr>\n",
       "    <tr>\n",
       "      <th>1435</th>\n",
       "      <td>-5.136930</td>\n",
       "      <td>28.040981</td>\n",
       "      <td>0.938046</td>\n",
       "    </tr>\n",
       "    <tr>\n",
       "      <th>3080</th>\n",
       "      <td>-4.533508</td>\n",
       "      <td>28.154243</td>\n",
       "      <td>0.250137</td>\n",
       "    </tr>\n",
       "    <tr>\n",
       "      <th>3081</th>\n",
       "      <td>-4.712270</td>\n",
       "      <td>28.712893</td>\n",
       "      <td>0.264411</td>\n",
       "    </tr>\n",
       "    <tr>\n",
       "      <th>3085</th>\n",
       "      <td>-4.754160</td>\n",
       "      <td>29.215670</td>\n",
       "      <td>0.219606</td>\n",
       "    </tr>\n",
       "  </tbody>\n",
       "</table>\n",
       "</div>"
      ],
      "text/plain": [
       "             x          y         z\n",
       "1433 -5.108001  28.115459  0.960877\n",
       "1434 -4.834965  27.967173  0.653204\n",
       "1435 -5.136930  28.040981  0.938046\n",
       "3080 -4.533508  28.154243  0.250137\n",
       "3081 -4.712270  28.712893  0.264411\n",
       "3085 -4.754160  29.215670  0.219606"
      ]
     },
     "execution_count": 185,
     "metadata": {},
     "output_type": "execute_result"
    }
   ],
   "source": [
    "# encontra quadrante do max val do eixo z\n",
    "points.loc[(points[\"x\"] > (box_min.x+3*box_width_step)) & (points[\"y\"] > (box_min.y+8*box_depth_step)) & (points[\"x\"] < (box_min.x+4*box_width_step)) & (points[\"y\"] < (box_min.y+9*box_depth_step))]\n",
    "# x = quadrante 4\n",
    "# y = quadrante 9"
   ]
  },
  {
   "cell_type": "code",
   "execution_count": 186,
   "metadata": {
    "collapsed": false
   },
   "outputs": [
    {
     "data": {
      "text/html": [
       "<div>\n",
       "<table border=\"1\" class=\"dataframe\">\n",
       "  <thead>\n",
       "    <tr style=\"text-align: right;\">\n",
       "      <th></th>\n",
       "      <th>x</th>\n",
       "      <th>y</th>\n",
       "      <th>z</th>\n",
       "    </tr>\n",
       "  </thead>\n",
       "  <tbody>\n",
       "    <tr>\n",
       "      <th>3262</th>\n",
       "      <td>6.755845</td>\n",
       "      <td>17.439482</td>\n",
       "      <td>-6.336133</td>\n",
       "    </tr>\n",
       "  </tbody>\n",
       "</table>\n",
       "</div>"
      ],
      "text/plain": [
       "             x          y         z\n",
       "3262  6.755845  17.439482 -6.336133"
      ]
     },
     "execution_count": 186,
     "metadata": {},
     "output_type": "execute_result"
    }
   ],
   "source": [
    "# procura min val eixo z\n",
    "points.loc[(points[\"z\"] == box_min.z)]"
   ]
  },
  {
   "cell_type": "code",
   "execution_count": 187,
   "metadata": {
    "collapsed": false
   },
   "outputs": [
    {
     "data": {
      "text/html": [
       "<div>\n",
       "<table border=\"1\" class=\"dataframe\">\n",
       "  <thead>\n",
       "    <tr style=\"text-align: right;\">\n",
       "      <th></th>\n",
       "      <th>x</th>\n",
       "      <th>y</th>\n",
       "      <th>z</th>\n",
       "    </tr>\n",
       "  </thead>\n",
       "  <tbody>\n",
       "    <tr>\n",
       "      <th>3262</th>\n",
       "      <td>6.755845</td>\n",
       "      <td>17.439482</td>\n",
       "      <td>-6.336133</td>\n",
       "    </tr>\n",
       "    <tr>\n",
       "      <th>3264</th>\n",
       "      <td>6.739957</td>\n",
       "      <td>17.512878</td>\n",
       "      <td>-6.255848</td>\n",
       "    </tr>\n",
       "    <tr>\n",
       "      <th>3265</th>\n",
       "      <td>7.176054</td>\n",
       "      <td>17.734409</td>\n",
       "      <td>-6.192599</td>\n",
       "    </tr>\n",
       "    <tr>\n",
       "      <th>3266</th>\n",
       "      <td>6.828592</td>\n",
       "      <td>17.717905</td>\n",
       "      <td>-6.183987</td>\n",
       "    </tr>\n",
       "    <tr>\n",
       "      <th>3267</th>\n",
       "      <td>7.832522</td>\n",
       "      <td>17.680458</td>\n",
       "      <td>-6.271386</td>\n",
       "    </tr>\n",
       "    <tr>\n",
       "      <th>3268</th>\n",
       "      <td>7.571656</td>\n",
       "      <td>17.762602</td>\n",
       "      <td>-6.200945</td>\n",
       "    </tr>\n",
       "    <tr>\n",
       "      <th>3269</th>\n",
       "      <td>7.682328</td>\n",
       "      <td>17.762253</td>\n",
       "      <td>-6.187739</td>\n",
       "    </tr>\n",
       "    <tr>\n",
       "      <th>3270</th>\n",
       "      <td>6.663849</td>\n",
       "      <td>18.343441</td>\n",
       "      <td>-5.713534</td>\n",
       "    </tr>\n",
       "    <tr>\n",
       "      <th>3302</th>\n",
       "      <td>7.268026</td>\n",
       "      <td>18.318247</td>\n",
       "      <td>-5.734073</td>\n",
       "    </tr>\n",
       "    <tr>\n",
       "      <th>3303</th>\n",
       "      <td>6.797775</td>\n",
       "      <td>18.348146</td>\n",
       "      <td>-5.691943</td>\n",
       "    </tr>\n",
       "    <tr>\n",
       "      <th>3304</th>\n",
       "      <td>7.814705</td>\n",
       "      <td>18.440067</td>\n",
       "      <td>-5.796693</td>\n",
       "    </tr>\n",
       "    <tr>\n",
       "      <th>3305</th>\n",
       "      <td>7.608463</td>\n",
       "      <td>18.369293</td>\n",
       "      <td>-5.784261</td>\n",
       "    </tr>\n",
       "    <tr>\n",
       "      <th>3306</th>\n",
       "      <td>7.086447</td>\n",
       "      <td>18.188791</td>\n",
       "      <td>-5.847461</td>\n",
       "    </tr>\n",
       "    <tr>\n",
       "      <th>3307</th>\n",
       "      <td>7.322133</td>\n",
       "      <td>17.999231</td>\n",
       "      <td>-5.990327</td>\n",
       "    </tr>\n",
       "    <tr>\n",
       "      <th>3308</th>\n",
       "      <td>7.191803</td>\n",
       "      <td>18.091991</td>\n",
       "      <td>-5.912572</td>\n",
       "    </tr>\n",
       "    <tr>\n",
       "      <th>3309</th>\n",
       "      <td>7.311503</td>\n",
       "      <td>17.798004</td>\n",
       "      <td>-6.169848</td>\n",
       "    </tr>\n",
       "    <tr>\n",
       "      <th>3310</th>\n",
       "      <td>7.019465</td>\n",
       "      <td>17.994865</td>\n",
       "      <td>-6.009431</td>\n",
       "    </tr>\n",
       "    <tr>\n",
       "      <th>3311</th>\n",
       "      <td>6.901282</td>\n",
       "      <td>17.752192</td>\n",
       "      <td>-6.157705</td>\n",
       "    </tr>\n",
       "    <tr>\n",
       "      <th>3312</th>\n",
       "      <td>7.856021</td>\n",
       "      <td>18.087749</td>\n",
       "      <td>-6.038928</td>\n",
       "    </tr>\n",
       "    <tr>\n",
       "      <th>3313</th>\n",
       "      <td>7.415048</td>\n",
       "      <td>18.137081</td>\n",
       "      <td>-5.909952</td>\n",
       "    </tr>\n",
       "    <tr>\n",
       "      <th>3314</th>\n",
       "      <td>7.867071</td>\n",
       "      <td>18.167448</td>\n",
       "      <td>-5.976152</td>\n",
       "    </tr>\n",
       "    <tr>\n",
       "      <th>3315</th>\n",
       "      <td>7.629020</td>\n",
       "      <td>17.954964</td>\n",
       "      <td>-6.050296</td>\n",
       "    </tr>\n",
       "    <tr>\n",
       "      <th>3316</th>\n",
       "      <td>7.849588</td>\n",
       "      <td>17.993551</td>\n",
       "      <td>-6.075268</td>\n",
       "    </tr>\n",
       "    <tr>\n",
       "      <th>3318</th>\n",
       "      <td>6.881044</td>\n",
       "      <td>18.392527</td>\n",
       "      <td>-5.671236</td>\n",
       "    </tr>\n",
       "    <tr>\n",
       "      <th>3320</th>\n",
       "      <td>7.044237</td>\n",
       "      <td>18.516060</td>\n",
       "      <td>-5.631776</td>\n",
       "    </tr>\n",
       "    <tr>\n",
       "      <th>3322</th>\n",
       "      <td>6.829364</td>\n",
       "      <td>18.620125</td>\n",
       "      <td>-5.458753</td>\n",
       "    </tr>\n",
       "    <tr>\n",
       "      <th>3323</th>\n",
       "      <td>7.170152</td>\n",
       "      <td>18.480860</td>\n",
       "      <td>-5.680070</td>\n",
       "    </tr>\n",
       "    <tr>\n",
       "      <th>3325</th>\n",
       "      <td>7.461939</td>\n",
       "      <td>18.610020</td>\n",
       "      <td>-5.635284</td>\n",
       "    </tr>\n",
       "    <tr>\n",
       "      <th>3329</th>\n",
       "      <td>7.864747</td>\n",
       "      <td>18.548519</td>\n",
       "      <td>-5.748420</td>\n",
       "    </tr>\n",
       "    <tr>\n",
       "      <th>3330</th>\n",
       "      <td>7.610639</td>\n",
       "      <td>18.536264</td>\n",
       "      <td>-5.740401</td>\n",
       "    </tr>\n",
       "    <tr>\n",
       "      <th>3331</th>\n",
       "      <td>8.021464</td>\n",
       "      <td>17.726095</td>\n",
       "      <td>-6.242099</td>\n",
       "    </tr>\n",
       "    <tr>\n",
       "      <th>3332</th>\n",
       "      <td>8.289662</td>\n",
       "      <td>17.781881</td>\n",
       "      <td>-6.334908</td>\n",
       "    </tr>\n",
       "    <tr>\n",
       "      <th>3333</th>\n",
       "      <td>8.319409</td>\n",
       "      <td>18.176249</td>\n",
       "      <td>-6.092517</td>\n",
       "    </tr>\n",
       "    <tr>\n",
       "      <th>3334</th>\n",
       "      <td>8.150965</td>\n",
       "      <td>18.422993</td>\n",
       "      <td>-5.882486</td>\n",
       "    </tr>\n",
       "    <tr>\n",
       "      <th>3335</th>\n",
       "      <td>8.005301</td>\n",
       "      <td>18.077265</td>\n",
       "      <td>-6.021557</td>\n",
       "    </tr>\n",
       "    <tr>\n",
       "      <th>3336</th>\n",
       "      <td>8.433744</td>\n",
       "      <td>18.256847</td>\n",
       "      <td>-6.023409</td>\n",
       "    </tr>\n",
       "    <tr>\n",
       "      <th>3337</th>\n",
       "      <td>7.999220</td>\n",
       "      <td>18.268686</td>\n",
       "      <td>-5.946174</td>\n",
       "    </tr>\n",
       "    <tr>\n",
       "      <th>3338</th>\n",
       "      <td>7.980616</td>\n",
       "      <td>18.020069</td>\n",
       "      <td>-6.078256</td>\n",
       "    </tr>\n",
       "    <tr>\n",
       "      <th>3340</th>\n",
       "      <td>8.363553</td>\n",
       "      <td>18.624880</td>\n",
       "      <td>-5.828025</td>\n",
       "    </tr>\n",
       "    <tr>\n",
       "      <th>3342</th>\n",
       "      <td>7.927957</td>\n",
       "      <td>18.667831</td>\n",
       "      <td>-5.696490</td>\n",
       "    </tr>\n",
       "    <tr>\n",
       "      <th>3346</th>\n",
       "      <td>8.270907</td>\n",
       "      <td>18.521900</td>\n",
       "      <td>-5.873060</td>\n",
       "    </tr>\n",
       "  </tbody>\n",
       "</table>\n",
       "</div>"
      ],
      "text/plain": [
       "             x          y         z\n",
       "3262  6.755845  17.439482 -6.336133\n",
       "3264  6.739957  17.512878 -6.255848\n",
       "3265  7.176054  17.734409 -6.192599\n",
       "3266  6.828592  17.717905 -6.183987\n",
       "3267  7.832522  17.680458 -6.271386\n",
       "3268  7.571656  17.762602 -6.200945\n",
       "3269  7.682328  17.762253 -6.187739\n",
       "3270  6.663849  18.343441 -5.713534\n",
       "3302  7.268026  18.318247 -5.734073\n",
       "3303  6.797775  18.348146 -5.691943\n",
       "3304  7.814705  18.440067 -5.796693\n",
       "3305  7.608463  18.369293 -5.784261\n",
       "3306  7.086447  18.188791 -5.847461\n",
       "3307  7.322133  17.999231 -5.990327\n",
       "3308  7.191803  18.091991 -5.912572\n",
       "3309  7.311503  17.798004 -6.169848\n",
       "3310  7.019465  17.994865 -6.009431\n",
       "3311  6.901282  17.752192 -6.157705\n",
       "3312  7.856021  18.087749 -6.038928\n",
       "3313  7.415048  18.137081 -5.909952\n",
       "3314  7.867071  18.167448 -5.976152\n",
       "3315  7.629020  17.954964 -6.050296\n",
       "3316  7.849588  17.993551 -6.075268\n",
       "3318  6.881044  18.392527 -5.671236\n",
       "3320  7.044237  18.516060 -5.631776\n",
       "3322  6.829364  18.620125 -5.458753\n",
       "3323  7.170152  18.480860 -5.680070\n",
       "3325  7.461939  18.610020 -5.635284\n",
       "3329  7.864747  18.548519 -5.748420\n",
       "3330  7.610639  18.536264 -5.740401\n",
       "3331  8.021464  17.726095 -6.242099\n",
       "3332  8.289662  17.781881 -6.334908\n",
       "3333  8.319409  18.176249 -6.092517\n",
       "3334  8.150965  18.422993 -5.882486\n",
       "3335  8.005301  18.077265 -6.021557\n",
       "3336  8.433744  18.256847 -6.023409\n",
       "3337  7.999220  18.268686 -5.946174\n",
       "3338  7.980616  18.020069 -6.078256\n",
       "3340  8.363553  18.624880 -5.828025\n",
       "3342  7.927957  18.667831 -5.696490\n",
       "3346  8.270907  18.521900 -5.873060"
      ]
     },
     "execution_count": 187,
     "metadata": {},
     "output_type": "execute_result"
    }
   ],
   "source": [
    "# encontra quadrante do min val do eixo z\n",
    "points.loc[(points[\"x\"] > (box_min.x+9*box_width_step)) & (points[\"y\"] > (box_min.y+1*box_depth_step)) & (points[\"x\"] < (box_min.x+10*box_width_step)) & (points[\"y\"] < (box_min.y+2*box_depth_step))]\n",
    "# x = quadrante 10\n",
    "# y = quadrante 2"
   ]
  },
  {
   "cell_type": "code",
   "execution_count": 219,
   "metadata": {
    "collapsed": false
   },
   "outputs": [
    {
     "data": {
      "image/png": "[encoded data removed]",
      "text/plain": [
       "<matplotlib.figure.Figure at 0x10f6b8850>"
      ]
     },
     "metadata": {},
     "output_type": "display_data"
    }
   ],
   "source": [
    "%matplotlib inline\n",
    "import numpy as np\n",
    "from mpl_toolkits.mplot3d import Axes3D\n",
    "import matplotlib.pyplot as plt\n",
    "\n",
    "fig = plt.figure()\n",
    "ax = fig.add_subplot(111, projection='3d')\n",
    "n = 100\n",
    "\n",
    "ax.set_xlim(-15,10)\n",
    "ax.set_ylim(14,32)\n",
    "ax.set_zlim(-8,4)\n",
    "\n",
    "xs = points[\"x\"]\n",
    "ys = points[\"y\"]\n",
    "zs = points[\"z\"]\n",
    "\n",
    "ax.scatter(xs, ys, zs, c='r', marker='o', depthshade=False)\n",
    "\n",
    "ax.set_xlabel('X Label')\n",
    "ax.set_ylabel('Y Label')\n",
    "ax.set_zlabel('Z Label')\n",
    "\n",
    "plt.show()"
   ]
  },
  {
   "cell_type": "code",
   "execution_count": 201,
   "metadata": {
    "collapsed": false
   },
   "outputs": [
    {
     "data": {
      "image/png": "[encoded data removed]",
      "text/plain": [
       "<matplotlib.figure.Figure at 0x10ec4e390>"
      ]
     },
     "metadata": {},
     "output_type": "display_data"
    }
   ],
   "source": [
    "%matplotlib inline\n",
    "import numpy as np\n",
    "from mpl_toolkits.mplot3d import Axes3D\n",
    "import matplotlib.pyplot as plt\n",
    "\n",
    "fig = plt.figure()\n",
    "ax = fig.add_subplot(111, projection='3d')\n",
    "n = 100\n",
    "\n",
    "ax.set_xlim(-15,10)\n",
    "ax.set_ylim(14,32)\n",
    "ax.set_zlim(-8,4)\n",
    "\n",
    "xs = points_quadrant_1_1[\"x\"]\n",
    "ys = points_quadrant_1_1[\"y\"]\n",
    "zs = points_quadrant_1_1[\"z\"]\n",
    "ax.scatter(xs, ys, zs, c='r', marker='o', depthshade=False)\n",
    "\n",
    "ax.set_xlabel('X Label')\n",
    "ax.set_ylabel('Y Label')\n",
    "ax.set_zlabel('Z Label')\n",
    "\n",
    "plt.show()"
   ]
  },
  {
   "cell_type": "code",
   "execution_count": 360,
   "metadata": {
    "collapsed": false
   },
   "outputs": [
    {
     "data": {
      "image/png": "[encoded data removed]",
      "text/plain": [
       "<matplotlib.figure.Figure at 0x10f6b9050>"
      ]
     },
     "metadata": {},
     "output_type": "display_data"
    }
   ],
   "source": [
    "%matplotlib inline\n",
    "import numpy as np\n",
    "from mpl_toolkits.mplot3d import Axes3D\n",
    "import matplotlib.pyplot as plt\n",
    "\n",
    "fig = plt.figure()\n",
    "ax = fig.add_subplot(111, projection='3d')\n",
    "n = 100\n",
    "\n",
    "ax.set_xlim(-15,10)\n",
    "ax.set_ylim(14,32)\n",
    "ax.set_zlim(-8,4)\n",
    "\n",
    "xs = points_quadrant_10_10[\"x\"]\n",
    "ys = points_quadrant_10_10[\"y\"]\n",
    "zs = points_quadrant_10_10[\"z\"]\n",
    "ax.scatter(xs, ys, zs, c='r', marker='o', depthshade=False)\n",
    "\n",
    "ax.set_xlabel('X Label')\n",
    "ax.set_ylabel('Y Label')\n",
    "ax.set_zlabel('Z Label')\n",
    "\n",
    "plt.show()"
   ]
  },
  {
   "cell_type": "code",
   "execution_count": 191,
   "metadata": {
    "collapsed": false
   },
   "outputs": [
    {
     "data": {
      "text/plain": [
       "0.83083723496194817"
      ]
     },
     "execution_count": 191,
     "metadata": {},
     "output_type": "execute_result"
    }
   ],
   "source": [
    "# calcula área do quadrante 1,1\n",
    "total_area = 0\n",
    "base_area = ((box_min.x+1*box_width_step) - (box_min.x+(1-1)*box_width_step)) * ((box_min.y+1*box_depth_step) - (box_min.y+(1-1)*box_depth_step))\n",
    "total_area += (points_quadrant_1_1[\"z\"].mean() - box_min.z) * base_area\n",
    "total_area"
   ]
  },
  {
   "cell_type": "code",
   "execution_count": 497,
   "metadata": {
    "collapsed": false
   },
   "outputs": [
    {
     "name": "stdout",
     "output_type": "stream",
     "text": [
      "1121.31056505\n"
     ]
    }
   ],
   "source": [
    "# calcula área total do modelo\n",
    "model_xs = []\n",
    "model_ys = []\n",
    "model_zs = []\n",
    "\n",
    "total_area = 0\n",
    "total_volume = 0\n",
    "for cur_step_width in range(1,STEPS_WIDTH+1):\n",
    "    for cur_step_depth in range(1,STEPS_DEPTH+1):\n",
    "        \n",
    "        points_cur_quadrant = points.loc[(points[\"x\"] > (box_min.x+(cur_step_width-1)*box_width_step)) & (points[\"y\"] > (box_min.y+(cur_step_depth-1)*box_depth_step)) & (points[\"x\"] <= (box_min.x+cur_step_width*box_width_step)) & (points[\"y\"] <= (box_min.y+cur_step_depth*box_depth_step))]\n",
    "            \n",
    "        cur_width = ((box_min.x+cur_step_width*box_width_step) - (box_min.x+(cur_step_width-1)*box_width_step))\n",
    "        cur_depth = ((box_min.y+cur_step_depth*box_depth_step) - (box_min.y+(cur_step_depth-1)*box_depth_step))\n",
    "        \n",
    "        # altura zero se não houverem pontos no quadrante\n",
    "        if points_cur_quadrant.empty:\n",
    "            cur_height = 0\n",
    "        else:\n",
    "            cur_height = (points_cur_quadrant[\"z\"].mean() - box_min.z)\n",
    "            \n",
    "        # adiciona os pontos em listas para visualização posterior\n",
    "        model_xs.append((box_min.x+cur_step_width*box_width_step))\n",
    "        model_ys.append((box_min.y+cur_step_depth*box_depth_step))\n",
    "        model_zs.append(cur_height)\n",
    "        \n",
    "        base_area = (cur_width * cur_depth)\n",
    "        total_volume +=  base_area * cur_height\n",
    "        \n",
    "print total_volume"
   ]
  },
  {
   "cell_type": "code",
   "execution_count": 193,
   "metadata": {
    "collapsed": false
   },
   "outputs": [
    {
     "data": {
      "text/plain": [
       "26.775341526287342"
      ]
     },
     "execution_count": 193,
     "metadata": {},
     "output_type": "execute_result"
    }
   ],
   "source": [
    "# máximo volume possível de um quadrante\n",
    "quadrant_max_volume = box_width_step * box_depth_step * delta.z\n",
    "quadrant_max_volume"
   ]
  },
  {
   "cell_type": "code",
   "execution_count": 194,
   "metadata": {
    "collapsed": false
   },
   "outputs": [
    {
     "data": {
      "text/plain": [
       "2677.5341526287343"
      ]
     },
     "execution_count": 194,
     "metadata": {},
     "output_type": "execute_result"
    }
   ],
   "source": [
    "# máximo volume possível do modelo (soma do volume dos quadrantes)\n",
    "model_max_volume = STEPS_WIDTH * STEPS_DEPTH * quadrant_max_volume\n",
    "model_max_volume"
   ]
  },
  {
   "cell_type": "code",
   "execution_count": 195,
   "metadata": {
    "collapsed": false
   },
   "outputs": [
    {
     "data": {
      "text/plain": [
       "42.590984313738083"
      ]
     },
     "execution_count": 195,
     "metadata": {},
     "output_type": "execute_result"
    }
   ],
   "source": [
    "# porcentagem do todo preenchida pelo modelo\n",
    "model_volume_filled_percentage = total_volume / model_max_volume * 100\n",
    "model_volume_filled_percentage"
   ]
  },
  {
   "cell_type": "code",
   "execution_count": 196,
   "metadata": {
    "collapsed": false
   },
   "outputs": [
    {
     "data": {
      "text/plain": [
       "36.5015015015015"
      ]
     },
     "execution_count": 196,
     "metadata": {},
     "output_type": "execute_result"
    }
   ],
   "source": [
    "# porcentagem do todo preenchida pela farinha (modelo físico)\n",
    "model_real_filled_percentage = total_baseline_volume / max_model_volume * 100\n",
    "model_real_filled_percentage"
   ]
  },
  {
   "cell_type": "code",
   "execution_count": 197,
   "metadata": {
    "collapsed": false
   },
   "outputs": [
    {
     "data": {
      "text/plain": [
       "6.0894828122365823"
      ]
     },
     "execution_count": 197,
     "metadata": {},
     "output_type": "execute_result"
    }
   ],
   "source": [
    "error_rate_percentage = model_volume_filled_percentage - model_real_filled_percentage\n",
    "error_rate_percentage"
   ]
  },
  {
   "cell_type": "code",
   "execution_count": 509,
   "metadata": {
    "collapsed": false
   },
   "outputs": [
    {
     "data": {
      "image/png": "[encoded data removed]",
      "text/plain": [
       "<matplotlib.figure.Figure at 0x1102bbb50>"
      ]
     },
     "metadata": {},
     "output_type": "display_data"
    }
   ],
   "source": [
    "%matplotlib inline\n",
    "import numpy as np\n",
    "from mpl_toolkits.mplot3d import Axes3D\n",
    "import matplotlib.pyplot as plt\n",
    "\n",
    "fig = plt.figure()\n",
    "ax = fig.add_subplot(111, projection='3d')\n",
    "n = 100\n",
    "\n",
    "ax.set_xlim(-12,12)\n",
    "ax.set_ylim(14,32)\n",
    "ax.set_zlim(0,12)\n",
    "\n",
    "xs = model_xs\n",
    "ys = model_ys\n",
    "zs = model_zs\n",
    "\n",
    "ax.scatter(xs, ys, zs, c='r', marker='o', depthshade=False)\n",
    "\n",
    "ax.set_xlabel('X Label')\n",
    "ax.set_ylabel('Y Label')\n",
    "ax.set_zlabel('Z Label')\n",
    "\n",
    "plt.show()"
   ]
  },
  {
   "cell_type": "code",
   "execution_count": 501,
   "metadata": {
    "collapsed": true
   },
   "outputs": [],
   "source": [
    "# inverte a altura das boxes para a plotagem\n",
    "model_zs_negative = []\n",
    "for zs in model_zs:\n",
    "    model_zs_negative.append(-zs)"
   ]
  },
  {
   "cell_type": "code",
   "execution_count": 511,
   "metadata": {
    "collapsed": false
   },
   "outputs": [
    {
     "data": {
      "image/png": "[encoded data removed]",
      "text/plain": [
       "<matplotlib.figure.Figure at 0x1104e5510>"
      ]
     },
     "metadata": {},
     "output_type": "display_data"
    }
   ],
   "source": [
    "# plotagem das subdivisões da aproximação volumétrica\n",
    "%matplotlib inline\n",
    "import numpy as np\n",
    "from mpl_toolkits.mplot3d import Axes3D\n",
    "import matplotlib.pyplot as plt\n",
    "\n",
    "fig = plt.figure()\n",
    "ax = fig.add_subplot(111, projection='3d')\n",
    "n = 100\n",
    "\n",
    "ax.set_xlim(-12,12)\n",
    "ax.set_ylim(14,32)\n",
    "ax.set_zlim(0,12)\n",
    "\n",
    "xs = model_xs\n",
    "ys = model_ys\n",
    "zs = model_zs\n",
    "\n",
    "square_division_size = box_min.x+box_width_step\n",
    "Axes3D.bar3d(ax, xs, ys, zs, square_size, square_size, model_zs_negative, color='r')\n",
    "\n",
    "ax.set_xlabel('X Label')\n",
    "ax.set_ylabel('Y Label')\n",
    "ax.set_zlabel('Z Label')\n",
    "\n",
    "plt.show()"
   ]
  },
  {
   "cell_type": "code",
   "execution_count": null,
   "metadata": {
    "collapsed": true
   },
   "outputs": [],
   "source": []
  }
 ],
 "metadata": {
  "kernelspec": {
   "display_name": "Python 3",
   "language": "python",
   "name": "python3"
  },
  "language_info": {
   "codemirror_mode": {
    "name": "ipython",
    "version": 3
   },
   "file_extension": ".py",
   "mimetype": "text/x-python",
   "name": "python",
   "nbconvert_exporter": "python",
   "pygments_lexer": "ipython3",
   "version": "3.5.1"
  }
 },
 "nbformat": 4,
 "nbformat_minor": 0
}
